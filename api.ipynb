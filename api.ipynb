{
 "cells": [
  {
   "cell_type": "code",
   "execution_count": null,
   "id": "29181ea2-513d-4935-9e07-fe429744c5fc",
   "metadata": {},
   "outputs": [
    {
     "name": "stdout",
     "output_type": "stream",
     "text": [
      " * Serving Flask app \"__main__\" (lazy loading)\n",
      " * Environment: production\n",
      "\u001b[31m   WARNING: This is a development server. Do not use it in a production deployment.\u001b[0m\n",
      "\u001b[2m   Use a production WSGI server instead.\u001b[0m\n",
      " * Debug mode: off\n"
     ]
    },
    {
     "name": "stderr",
     "output_type": "stream",
     "text": [
      " * Running on http://127.0.0.1:5000/ (Press CTRL+C to quit)\n",
      "127.0.0.1 - - [31/May/2022 20:21:30] \"POST /predict HTTP/1.1\" 200 -\n"
     ]
    }
   ],
   "source": [
    "#!python3\n",
    "\n",
    "import joblib\n",
    "from flask import Flask,request, jsonify\n",
    "\n",
    "app = Flask(__name__)\n",
    "\n",
    "@app.route(\"/predict\", methods=['POST'])\n",
    "def get_data():\n",
    "    \n",
    "    model = joblib.load('final_model.pkl')\n",
    "    column = joblib.load('column_names.pkl')\n",
    "    \n",
    "    data = request.json\n",
    "    list_X = []\n",
    "    for col in column:\n",
    "        list_X.append(data[col])\n",
    "        \n",
    "    predict = model.predict([list_X])[0]\n",
    "    \n",
    "    return jsonify({\"status\":\"Accept\", \"result\":str(predict)})\n",
    "\n",
    "if __name__ == \"__main__\":\n",
    "    app.run()"
   ]
  },
  {
   "cell_type": "code",
   "execution_count": null,
   "id": "74659c68-30b3-4c1c-9964-1684611cd2e9",
   "metadata": {},
   "outputs": [],
   "source": [
    "import joblib\n",
    "\n",
    "temp = []\n",
    "data = {'TV':10,'radio':20,'newspaper':10}\n",
    "\n",
    "model=joblib.load('final_model.pkl')\n",
    "column = joblib.load('column_names.pkl')"
   ]
  },
  {
   "cell_type": "code",
   "execution_count": null,
   "id": "245a13dc-1a24-4cb4-b625-655c03963d0e",
   "metadata": {},
   "outputs": [],
   "source": [
    "for col in column:\n",
    "    temp.append(data[col])"
   ]
  },
  {
   "cell_type": "code",
   "execution_count": null,
   "id": "91e45ed3-c406-4ef8-8578-954441d07df5",
   "metadata": {},
   "outputs": [],
   "source": [
    "predict = model.predict([list_X])[0]"
   ]
  },
  {
   "cell_type": "code",
   "execution_count": null,
   "id": "3d7e13ec-14aa-4e8e-9a89-db4e18b82ffd",
   "metadata": {},
   "outputs": [],
   "source": []
  }
 ],
 "metadata": {
  "kernelspec": {
   "display_name": "Python 3 (ipykernel)",
   "language": "python",
   "name": "python3"
  },
  "language_info": {
   "codemirror_mode": {
    "name": "ipython",
    "version": 3
   },
   "file_extension": ".py",
   "mimetype": "text/x-python",
   "name": "python",
   "nbconvert_exporter": "python",
   "pygments_lexer": "ipython3",
   "version": "3.9.7"
  }
 },
 "nbformat": 4,
 "nbformat_minor": 5
}
